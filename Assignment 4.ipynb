{
 "cells": [
  {
   "cell_type": "code",
   "execution_count": 12,
   "metadata": {},
   "outputs": [],
   "source": [
    "# Area = (s * (s-a) * (s-b) * (s-c)) ** 0.5\n",
    "\n",
    "class Triangle(object):\n",
    "    \n",
    "    def _init_(self, sides):\n",
    "        self.a,self.b,self.c = sides\n",
    "        \n",
    "class Area(Triangle):    \n",
    "    def __init__(self, sides):\n",
    "        Triangle._init_(self, sides)\n",
    "        \n",
    "    def get_area(self):\n",
    "        s = (a + b + c)/2\n",
    "        return (s*(s-a)*(s-b)*(s-c)) ** 0.5"
   ]
  },
  {
   "cell_type": "code",
   "execution_count": 13,
   "metadata": {},
   "outputs": [
    {
     "name": "stdout",
     "output_type": "stream",
     "text": [
      "Enter first side: 2\n",
      "Enter second side: 3\n",
      "Enter thrd side: 4\n"
     ]
    }
   ],
   "source": [
    "a = float(input('Enter first side: '))\n",
    "b = float(input('Enter second side: '))\n",
    "c = float(input('Enter thrd side: '))"
   ]
  },
  {
   "cell_type": "code",
   "execution_count": 14,
   "metadata": {},
   "outputs": [
    {
     "name": "stdout",
     "output_type": "stream",
     "text": [
      "Area of triangle =  2.9047375096555625\n"
     ]
    }
   ],
   "source": [
    "Tri = Area([a,b,c])\n",
    "print(\"Area of triangle = \", Tri.get_area())"
   ]
  },
  {
   "cell_type": "code",
   "execution_count": 17,
   "metadata": {},
   "outputs": [],
   "source": [
    "def filter_long_word(lst,n):\n",
    "    words =[]\n",
    "    for i in range(0,len(lst)):\n",
    "        if(n < len(lst[i])):\n",
    "            words.append(lst[i])\n",
    "    return(words)"
   ]
  },
  {
   "cell_type": "code",
   "execution_count": 20,
   "metadata": {},
   "outputs": [
    {
     "name": "stdout",
     "output_type": "stream",
     "text": [
      "length more than 3 : ['tiger', 'elephant', 'Caterpillar', 'Chimpanzee', 'Dinosaur']\n",
      "length more than 4 : ['elephant', 'Caterpillar', 'Chimpanzee', 'Dinosaur']\n",
      "length more than 5 : ['Caterpillar', 'Chimpanzee']\n"
     ]
    }
   ],
   "source": [
    "in_list=['cat','dog','lion','tiger','elephant','Caterpillar','Chimpanzee','Dinosaur']\n",
    "print('length more than 3 :', filter_long_word(in_list,4))\n",
    "print('length more than 4 :',filter_long_word(in_list,5))\n",
    "print('length more than 5 :',filter_long_word(in_list,8))"
   ]
  },
  {
   "cell_type": "code",
   "execution_count": 22,
   "metadata": {},
   "outputs": [],
   "source": [
    "def mapWordToLength(lst):\n",
    "    length = []\n",
    "    for i in range(0,len(lst)):\n",
    "        length.append(len(lst[i]))\n",
    "    return length"
   ]
  },
  {
   "cell_type": "code",
   "execution_count": 23,
   "metadata": {},
   "outputs": [
    {
     "name": "stdout",
     "output_type": "stream",
     "text": [
      "[3, 3, 4, 5, 8, 11, 10, 8]\n"
     ]
    }
   ],
   "source": [
    "in_list=['cat','dog','lion','tiger','elephant','Caterpillar','Chimpanzee','Dinosaur']\n",
    "print(mapWordToLength(in_list))"
   ]
  },
  {
   "cell_type": "code",
   "execution_count": 27,
   "metadata": {},
   "outputs": [],
   "source": [
    "def checkForVowel(alphabet):\n",
    "    vowel = ['a','e','i','o','u']\n",
    "    if alphabet in vowel:\n",
    "        return True\n",
    "    else:\n",
    "        return False"
   ]
  },
  {
   "cell_type": "code",
   "execution_count": 28,
   "metadata": {},
   "outputs": [
    {
     "name": "stdout",
     "output_type": "stream",
     "text": [
      "True\n",
      "False\n"
     ]
    }
   ],
   "source": [
    "print(checkForVowel('a'))\n",
    "print(checkForVowel('d'))"
   ]
  }
 ],
 "metadata": {
  "kernelspec": {
   "display_name": "Python 3",
   "language": "python",
   "name": "python3"
  },
  "language_info": {
   "codemirror_mode": {
    "name": "ipython",
    "version": 3
   },
   "file_extension": ".py",
   "mimetype": "text/x-python",
   "name": "python",
   "nbconvert_exporter": "python",
   "pygments_lexer": "ipython3",
   "version": "3.7.1"
  }
 },
 "nbformat": 4,
 "nbformat_minor": 2
}
